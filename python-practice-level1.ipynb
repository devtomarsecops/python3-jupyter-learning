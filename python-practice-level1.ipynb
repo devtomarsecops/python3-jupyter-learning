{
 "cells": [
  {
   "cell_type": "code",
   "execution_count": 14,
   "id": "ca0201a5-d8db-4318-8ac0-199a78d4a1a5",
   "metadata": {},
   "outputs": [
    {
     "name": "stdout",
     "output_type": "stream",
     "text": [
      "RamHello\n"
     ]
    }
   ],
   "source": [
    "#string concatination \n",
    "a = 'Ram'\n",
    "b = 'Hello'\n",
    "p = 5\n",
    "q = 6\n",
    "conCat = a+b\n",
    "print (conCat)\n"
   ]
  },
  {
   "cell_type": "code",
   "execution_count": 9,
   "id": "81a7d12f-75c1-438a-84d8-e6dd64df357f",
   "metadata": {},
   "outputs": [
    {
     "ename": "TypeError",
     "evalue": "can only concatenate str (not \"int\") to str",
     "output_type": "error",
     "traceback": [
      "\u001b[1;31m--------------------------------------------------------------------\u001b[0m",
      "\u001b[1;31mTypeError\u001b[0m                          Traceback (most recent call last)",
      "Cell \u001b[1;32mIn[9], line 2\u001b[0m\n\u001b[0;32m      1\u001b[0m \u001b[38;5;66;03m# No string concat\u001b[39;00m\n\u001b[1;32m----> 2\u001b[0m noConcat \u001b[38;5;241m=\u001b[39m \u001b[43ma\u001b[49m\u001b[43m \u001b[49m\u001b[38;5;241;43m+\u001b[39;49m\u001b[43m \u001b[49m\u001b[43mp\u001b[49m\n",
      "\u001b[1;31mTypeError\u001b[0m: can only concatenate str (not \"int\") to str"
     ]
    }
   ],
   "source": [
    "# No string concat\n",
    "noConcat = a + p"
   ]
  },
  {
   "cell_type": "code",
   "execution_count": 10,
   "id": "75d6c5b2-8279-4af7-9e23-ae56e99b85a2",
   "metadata": {},
   "outputs": [
    {
     "name": "stdout",
     "output_type": "stream",
     "text": [
      "RamRamRamRamRam\n"
     ]
    },
    {
     "ename": "TypeError",
     "evalue": "can't multiply sequence by non-int of type 'str'",
     "output_type": "error",
     "traceback": [
      "\u001b[1;31m--------------------------------------------------------------------\u001b[0m",
      "\u001b[1;31mTypeError\u001b[0m                          Traceback (most recent call last)",
      "Cell \u001b[1;32mIn[10], line 4\u001b[0m\n\u001b[0;32m      2\u001b[0m repli\u001b[38;5;241m=\u001b[39m a \u001b[38;5;241m*\u001b[39m p\n\u001b[0;32m      3\u001b[0m \u001b[38;5;28mprint\u001b[39m (repli)\n\u001b[1;32m----> 4\u001b[0m noRepli \u001b[38;5;241m=\u001b[39m \u001b[43ma\u001b[49m\u001b[43m \u001b[49m\u001b[38;5;241;43m*\u001b[39;49m\u001b[43m \u001b[49m\u001b[43mb\u001b[49m\n",
      "\u001b[1;31mTypeError\u001b[0m: can't multiply sequence by non-int of type 'str'"
     ]
    }
   ],
   "source": [
    "# String Replication \n",
    "repli= a * p\n",
    "print (repli)\n",
    "noRepli = a * b"
   ]
  },
  {
   "cell_type": "raw",
   "id": "9688ceb3-5885-4776-af83-42ce263a0f30",
   "metadata": {},
   "source": [
    "Certainly! Python provides a lots of built-in **string methods** that allow you to manipulate and work with strings. \n",
    "Let's explore some of the most commonly used ones:\n",
    "\n",
    "1. **`capitalize()`:** Converts the first character of a string to uppercase.\n",
    "2. **`casefold()`:** Converts the entire string to lowercase, similar to `lower()`, but more aggressive in handling special characters.\n",
    "3. **`center(width, fillchar)`:** Returns a centered string by padding it with `fillchar` (default is space) to the specified `width`.\n",
    "4. **`count(substring, start, end)`:** Returns the number of occurrences of `substring` within the string.\n",
    "5. **`encode(encoding, errors)`:** Returns an encoded version of the string using the specified `encoding`.\n",
    "6. **`endswith(suffix, start, end)`:** Checks if the string ends with the specified `suffix`.\n",
    "7. **`find(substring, start, end)`:** Searches for `substring` and returns its position (or -1 if not found).\n",
    "8. **`isalnum()`:** Returns `True` if all characters in the string are alphanumeric.\n",
    "9. **`isalpha()`:** Returns `True` if all characters in the string are alphabetic.\n",
    "10. **`isdigit()`:** Returns `True` if all characters in the string are digits.r\n",
    "11. **`islower()`:** Returns `True` if all characters in the string are lowercase.\n",
    "12. **`isspace()`:** Returns `True` if all characters in the string are whitespace.\n",
    "13. **`istitle()`:** Returns `True` if the string follows title case rules.\n",
    "14. **`isupper()`:** Returns `True` if all characters in the string are uppercase.\n",
    "15. **`join(iterable)`:** Concatenates elements of an iterable (e.g., a list) into a single string using the string as a separator.\n",
    "16. **`lower()`:** Converts the entire string to lowercase.\n",
    "17. **`replace(old, new, count)`:** Replaces occurrences of `old` with `new` (optional `count` limits replacements).\n",
    "18. **`split(separator, maxsplit)`:** Splits the string into a list of substrings using the specified `separator`.\n",
    "19. **`startswith(prefix, start, end)`:** Checks if the string starts with the specified `prefix`.\n",
    "20. **`strip(chars)`:** Removes leading and trailing characters specified in `chars` (default is whitespace).\n",
    "21. **`upper()`:** Converts the entire string to uppercase.\n",
    "\n",
    "Remember that these methods return new values and do not modify the original string.\n",
    "Source:\n",
    "(1) Python String Methods - W3Schools. https://www.w3schools.com/python/python_ref_string.asp.\n",
    "(2) string — Common string operations — Python 3.12.3 documentation. https://docs.python.org/3/library/string.html.\n",
    "(3) Python String Methods - GeeksforGeeks. https://www.geeksforgeeks.org/python-string-methods/."
   ]
  },
  {
   "cell_type": "code",
   "execution_count": 13,
   "id": "9a0b9753-dcd8-42fa-83fe-9eb9742e50a6",
   "metadata": {},
   "outputs": [
    {
     "name": "stdout",
     "output_type": "stream",
     "text": [
      "Hello\n",
      "e\n"
     ]
    }
   ],
   "source": [
    "#string indexing \n",
    "print (b)\n",
    "print (b[1])\n"
   ]
  },
  {
   "cell_type": "markdown",
   "id": "4ef1a9c1-5dd4-4041-abed-711658c3afb5",
   "metadata": {},
   "source": [
    "Using the List/array slicing  [ :: ]  method in Python 3\n",
    "It means Indexing starts with 0 in string.\n",
    "so indexing of Hello -> [01234]   in string indexing. it is positive index \n",
    "negative index will be -1-2-3-4-5  -> olleh   . It will be used in reverse indexing . \n",
    "\n",
    "Syntax ---->>>>\n",
    "\n",
    "arr[start:stop]         # items start through stop-1\n",
    "ex : subS = conCat[0:3]  the index start from 0 indexes and ending with a 2 index(stops at 3-1=2 ).\n",
    "\n",
    "arr[start:]             # items start through the rest of the array\n",
    "arr[:stop]              # items from the beginning through stop-1\n",
    "arr[:]                  # a copy of the whole array\n",
    "arr[start:stop:step]    # start through not past stop, by step"
   ]
  },
  {
   "cell_type": "code",
   "execution_count": 52,
   "id": "c4688b3d-631d-4bad-871a-f7c7240d0ed2",
   "metadata": {
    "scrolled": true
   },
   "outputs": [
    {
     "name": "stdout",
     "output_type": "stream",
     "text": [
      "RamHello\n",
      "conCat[0:3]\n",
      "Ram\n",
      "conCat[2:]\n",
      "mHello\n",
      "conCat[:4]\n",
      "RamH\n",
      "conCat[:]\n",
      "RamHello\n",
      "conCat[0:3:1] using the step , it is 1 by default when we do not specify like above\n",
      "Ram\n",
      "RamHel,0,6,1\n",
      "Rme,0,6,2  2nd index will be skipping\n"
     ]
    }
   ],
   "source": [
    "print (conCat) # RamHello  Positive index tracker [01234567] & for reverse Negative index tracker [-8-7-6-5-4-3-2-1]\n",
    "#subS = conCat[0:3] # Extract the first 3 characters \n",
    "print ('conCat[0:3]')\n",
    "print (conCat[0:3]) #  items start through & stop -1 So it will print from 0 to 2 [012]\n",
    "\n",
    "print('conCat[2:]')\n",
    "print(conCat[2:]) # items start through the rest of the array arr[start:]\n",
    "print ('conCat[:4]')\n",
    "print (conCat[:4]) # items from the beginning through stop-1\n",
    "\n",
    "print ('conCat[:]')\n",
    "print (conCat[:]) #it will print the whole array\n",
    "print ('conCat[0:3:1] using the step , it is 1 by default when we do not specify like above')\n",
    "print (conCat[0:3:1])\n",
    "\n",
    "print (conCat[0:6:1]+ ',0,6,1')\n",
    "print (conCat[0:6:2]+',0,6,2  2nd index will be skipping') # "
   ]
  },
  {
   "cell_type": "code",
   "execution_count": null,
   "id": "b8ece503-68b3-4074-a1f3-370ed8713d6b",
   "metadata": {},
   "outputs": [],
   "source": []
  },
  {
   "cell_type": "code",
   "execution_count": null,
   "id": "05043cfc-940a-45e2-a09b-e38beb5d8d35",
   "metadata": {},
   "outputs": [],
   "source": []
  }
 ],
 "metadata": {
  "kernelspec": {
   "display_name": "Python 3 (ipykernel)",
   "language": "python",
   "name": "python3"
  },
  "language_info": {
   "codemirror_mode": {
    "name": "ipython",
    "version": 3
   },
   "file_extension": ".py",
   "mimetype": "text/x-python",
   "name": "python",
   "nbconvert_exporter": "python",
   "pygments_lexer": "ipython3",
   "version": "3.12.3"
  }
 },
 "nbformat": 4,
 "nbformat_minor": 5
}
